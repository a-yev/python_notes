{
 "cells": [
  {
   "cell_type": "markdown",
   "id": "e15a59cc",
   "metadata": {},
   "source": [
    "1. Variables"
   ]
  },
  {
   "cell_type": "code",
   "execution_count": 1,
   "id": "16065894",
   "metadata": {},
   "outputs": [
    {
     "name": "stdout",
     "output_type": "stream",
     "text": [
      "4\n"
     ]
    }
   ],
   "source": [
    "#creating variables\n",
    "#integer\n",
    "a = 4\n",
    "print(a)"
   ]
  },
  {
   "cell_type": "code",
   "execution_count": 2,
   "id": "819f75bd",
   "metadata": {},
   "outputs": [
    {
     "name": "stdout",
     "output_type": "stream",
     "text": [
      "3.14\n"
     ]
    }
   ],
   "source": [
    "#floating point\n",
    "pi = 3.14\n",
    "print(pi)"
   ]
  },
  {
   "cell_type": "code",
   "execution_count": 5,
   "id": "86166575",
   "metadata": {},
   "outputs": [
    {
     "name": "stdout",
     "output_type": "stream",
     "text": [
      "Name\n"
     ]
    }
   ],
   "source": [
    "#string\n",
    "name = 'Name'\n",
    "print(name)"
   ]
  },
  {
   "cell_type": "code",
   "execution_count": 6,
   "id": "c1c1d91a",
   "metadata": {},
   "outputs": [
    {
     "name": "stdout",
     "output_type": "stream",
     "text": [
      "True\n"
     ]
    }
   ],
   "source": [
    "#boolean\n",
    "q = True\n",
    "print(q)"
   ]
  },
  {
   "cell_type": "code",
   "execution_count": 7,
   "id": "98c2980c",
   "metadata": {},
   "outputs": [
    {
     "name": "stdout",
     "output_type": "stream",
     "text": [
      "None\n"
     ]
    }
   ],
   "source": [
    "#empty value or null data type\n",
    "x = None\n",
    "print(x)"
   ]
  },
  {
   "cell_type": "code",
   "execution_count": 8,
   "id": "0bfcf50f",
   "metadata": {},
   "outputs": [
    {
     "name": "stdout",
     "output_type": "stream",
     "text": [
      "['False', 'None', 'True', '__peg_parser__', 'and', 'as', 'assert', 'async', 'await', 'break', 'class', 'continue', 'def', 'del', 'elif', 'else', 'except', 'finally', 'for', 'from', 'global', 'if', 'import', 'in', 'is', 'lambda', 'nonlocal', 'not', 'or', 'pass', 'raise', 'return', 'try', 'while', 'with', 'yield']\n"
     ]
    }
   ],
   "source": [
    "#don't use python keywords as a variable name. Check the list of keywords:\n",
    "import keyword\n",
    "print(keyword.kwlist)"
   ]
  },
  {
   "cell_type": "code",
   "execution_count": 9,
   "id": "92ecabde",
   "metadata": {},
   "outputs": [
    {
     "name": "stdout",
     "output_type": "stream",
     "text": [
      "1 2 3\n"
     ]
    }
   ],
   "source": [
    "#multiply values\n",
    "a, b, c = 1, 2, 3\n",
    "print(a, b, c)"
   ]
  },
  {
   "cell_type": "code",
   "execution_count": 11,
   "id": "e639a158",
   "metadata": {},
   "outputs": [
    {
     "name": "stdout",
     "output_type": "stream",
     "text": [
      "[3, 4, 5]\n"
     ]
    }
   ],
   "source": [
    "#nested list\n",
    "x = [1, 2, [3, 4, 5], 6, 7]\n",
    "print (x[2])"
   ]
  },
  {
   "cell_type": "markdown",
   "id": "4be104d8",
   "metadata": {},
   "source": [
    "Block identation"
   ]
  },
  {
   "cell_type": "code",
   "execution_count": 12,
   "id": "ba78dbba",
   "metadata": {},
   "outputs": [
    {
     "name": "stdout",
     "output_type": "stream",
     "text": [
      "2\n"
     ]
    }
   ],
   "source": [
    "#use : to show ahere blocks of code begin and end\n",
    "def my_function():\n",
    "    a = 2\n",
    "    return a\n",
    "print(my_function())"
   ]
  },
  {
   "cell_type": "code",
   "execution_count": 14,
   "id": "c5bbd491",
   "metadata": {},
   "outputs": [
    {
     "name": "stdout",
     "output_type": "stream",
     "text": [
      "2\n"
     ]
    }
   ],
   "source": [
    "#block of code begin and end\n",
    "if a>b:\n",
    "    print(a)\n",
    "else:\n",
    "    print(b)"
   ]
  },
  {
   "cell_type": "code",
   "execution_count": 16,
   "id": "4ba6ad47",
   "metadata": {},
   "outputs": [
    {
     "name": "stdout",
     "output_type": "stream",
     "text": [
      "2\n"
     ]
    }
   ],
   "source": [
    "#single-line statement block\n",
    "if a > b: print(a)\n",
    "else: print(b)"
   ]
  },
  {
   "cell_type": "markdown",
   "id": "3bd365e0",
   "metadata": {},
   "source": [
    "2. Data types"
   ]
  },
  {
   "cell_type": "code",
   "execution_count": 6,
   "id": "1958169d",
   "metadata": {},
   "outputs": [
    {
     "name": "stdout",
     "output_type": "stream",
     "text": [
      "<class 'int'>\n"
     ]
    }
   ],
   "source": [
    "#check data type\n",
    "a = 10\n",
    "print(type(a))"
   ]
  },
  {
   "cell_type": "code",
   "execution_count": 9,
   "id": "3ad20a14",
   "metadata": {},
   "outputs": [],
   "source": [
    "#set data types\n",
    "a = str(\"some text\")\n",
    "b = int(10)\n",
    "c = complex(4j)\n",
    "d = list((\"car\", \"train\", \"airplane\"))\n",
    "e = tuple((\"car\", \"train\", \"airplane\"))\n",
    "f = range((20))\n",
    "g = dict(name=\"Aleksander\", age=40)\n",
    "h = set((\"car\", \"train\", \"airplane\"))\n",
    "i = frozenset((\"car\", \"train\", \"airplane\"))\n",
    "j = bool(1)\n",
    "k = bytes(10)\n",
    "l = bytearray(15)\n",
    "m = memoryview(bytes(20))"
   ]
  },
  {
   "cell_type": "code",
   "execution_count": 10,
   "id": "aeffc261",
   "metadata": {},
   "outputs": [
    {
     "name": "stdout",
     "output_type": "stream",
     "text": [
      "[<class 'str'>, <class 'int'>, <class 'complex'>, <class 'list'>, <class 'tuple'>, <class 'range'>, <class 'dict'>, <class 'set'>, <class 'frozenset'>, <class 'bool'>, <class 'bytes'>, <class 'bytearray'>, <class 'memoryview'>]\n"
     ]
    }
   ],
   "source": [
    "#check types of several variables\n",
    "types = [type(var) for var in [a,b,c,d,e,f,g,h,i,j,k,l,m]]\n",
    "print(types)"
   ]
  },
  {
   "cell_type": "code",
   "execution_count": 11,
   "id": "f6da8a9d",
   "metadata": {},
   "outputs": [
    {
     "name": "stdout",
     "output_type": "stream",
     "text": [
      "a: <class 'str'>\n",
      "b: <class 'int'>\n",
      "c: <class 'complex'>\n",
      "d: <class 'list'>\n",
      "e: <class 'tuple'>\n",
      "f: <class 'range'>\n",
      "g: <class 'dict'>\n",
      "h: <class 'set'>\n",
      "i: <class 'frozenset'>\n",
      "j: <class 'bool'>\n",
      "k: <class 'bytes'>\n",
      "l: <class 'bytearray'>\n",
      "m: <class 'memoryview'>\n"
     ]
    }
   ],
   "source": [
    "#check variables types and names\n",
    "types = {var_name: type(eval(var_name)) for var_name in ['a','b','c','d','e','f','g','h','i','j','k','l','m']}\n",
    "for var_name, var_type in types.items():\n",
    "    print(f'{var_name}: {var_type}')"
   ]
  },
  {
   "cell_type": "markdown",
   "id": "1f8d4e1c",
   "metadata": {},
   "source": [
    "3. Conditions"
   ]
  },
  {
   "cell_type": "code",
   "execution_count": null,
   "id": "3af8baa3",
   "metadata": {},
   "outputs": [],
   "source": [
    "#equals\n",
    "a == b\n",
    "#not equals\n",
    "a != b\n",
    "#less than\n",
    "a < b\n",
    "#less than or equal to\n",
    "a <= b\n",
    "#greater than\n",
    "a > b\n",
    "#greater than or equal to\n",
    "a >= b"
   ]
  },
  {
   "cell_type": "markdown",
   "id": "5f6a5a21",
   "metadata": {},
   "source": [
    "4. Statements"
   ]
  },
  {
   "cell_type": "code",
   "execution_count": 1,
   "id": "82bb9941",
   "metadata": {},
   "outputs": [
    {
     "name": "stdout",
     "output_type": "stream",
     "text": [
      "b is greater than a\n"
     ]
    }
   ],
   "source": [
    "#IF this condition is true, make this action\n",
    "a = 10\n",
    "b = 20\n",
    "if b > a:\n",
    "  print(\"b is greater than a\")"
   ]
  },
  {
   "cell_type": "code",
   "execution_count": null,
   "id": "ba4f1470",
   "metadata": {},
   "outputs": [],
   "source": [
    "#ELIF: if the previous conditions were not true, THEN try this condition"
   ]
  },
  {
   "cell_type": "code",
   "execution_count": 3,
   "id": "06ff209a",
   "metadata": {},
   "outputs": [
    {
     "name": "stdout",
     "output_type": "stream",
     "text": [
      "a and b are equal\n"
     ]
    }
   ],
   "source": [
    "a = 10\n",
    "b = 10\n",
    "if b > a:\n",
    "  print(\"b is greater than a\")\n",
    "elif a == b:\n",
    "  print(\"a and b are equal\")"
   ]
  },
  {
   "cell_type": "code",
   "execution_count": 5,
   "id": "b4187f8d",
   "metadata": {},
   "outputs": [
    {
     "name": "stdout",
     "output_type": "stream",
     "text": [
      "b is greater than a\n"
     ]
    }
   ],
   "source": [
    "#ELSE catches anything which isn't caught by the preceding conditions.\n",
    "a = 10\n",
    "b = 33\n",
    "if b > a:\n",
    "    print(\"b is greater than a\")\n",
    "elif a==b:\n",
    "    print(\"a and b are equal\")\n",
    "else:\n",
    "    print(\"a is greater than b\")"
   ]
  },
  {
   "cell_type": "markdown",
   "id": "97637a70",
   "metadata": {},
   "source": [
    "Bloki warunkowe (IF...THEN...ELSE, CASE)"
   ]
  },
  {
   "cell_type": "code",
   "execution_count": null,
   "id": "75b6a472",
   "metadata": {},
   "outputs": [],
   "source": [
    "#IF condition"
   ]
  },
  {
   "cell_type": "markdown",
   "id": "eb5f9045",
   "metadata": {},
   "source": [
    "5. Loops"
   ]
  },
  {
   "cell_type": "code",
   "execution_count": 13,
   "id": "36849a46",
   "metadata": {},
   "outputs": [
    {
     "name": "stdout",
     "output_type": "stream",
     "text": [
      "1\n",
      "2\n",
      "3\n",
      "4\n",
      "5\n"
     ]
    }
   ],
   "source": [
    "#WHILE loop executes a set of statements as long as a condition is true\n",
    "a=1\n",
    "b=5\n",
    "while a <= b:\n",
    "    print(a)\n",
    "    a += 1"
   ]
  },
  {
   "cell_type": "code",
   "execution_count": 22,
   "id": "9b52df73",
   "metadata": {},
   "outputs": [
    {
     "name": "stdout",
     "output_type": "stream",
     "text": [
      "birch\n",
      "spruce\n",
      "pine\n",
      "acacia\n"
     ]
    }
   ],
   "source": [
    "#FOR loop for iterating over a sequence that is either a list, a tuple, a dictionary, a set, or a string.\n",
    "trees = ['birch', 'spruce', 'pine', 'acacia']\n",
    "for x in trees:\n",
    "    print(x)"
   ]
  },
  {
   "cell_type": "code",
   "execution_count": 23,
   "id": "72a054ed",
   "metadata": {},
   "outputs": [
    {
     "name": "stdout",
     "output_type": "stream",
     "text": [
      "birch\n",
      "spruce\n",
      "pine\n"
     ]
    }
   ],
   "source": [
    "#break in for loop\n",
    "trees = ['birch', 'spruce', 'pine', 'acacia']\n",
    "for x in trees:\n",
    "    print(x)\n",
    "    if x == 'pine':\n",
    "        break"
   ]
  },
  {
   "cell_type": "code",
   "execution_count": 2,
   "id": "f5471463",
   "metadata": {},
   "outputs": [
    {
     "name": "stdout",
     "output_type": "stream",
     "text": [
      "birch\n",
      "spruce\n",
      "acacia\n"
     ]
    }
   ],
   "source": [
    "#continue statement will stop the current iteration of the loop, and continue with the next\n",
    "trees = ['birch', 'spruce', 'pine', 'acacia']\n",
    "for x in trees:\n",
    "  if x == 'pine':\n",
    "    continue\n",
    "  print(x)"
   ]
  },
  {
   "cell_type": "code",
   "execution_count": 3,
   "id": "279c8b7c",
   "metadata": {},
   "outputs": [
    {
     "name": "stdout",
     "output_type": "stream",
     "text": [
      "green birch\n",
      "green spruce\n",
      "green pine\n",
      "green acacia\n",
      "big birch\n",
      "big spruce\n",
      "big pine\n",
      "big acacia\n",
      "new birch\n",
      "new spruce\n",
      "new pine\n",
      "new acacia\n"
     ]
    }
   ],
   "source": [
    "#NESTED loops\n",
    "adj = [\"green\", \"big\", \"new\"]\n",
    "fruits = ['birch', 'spruce', 'pine', 'acacia']\n",
    "for x in adj:\n",
    "  for y in fruits:\n",
    "    print(x, y)"
   ]
  },
  {
   "cell_type": "markdown",
   "id": "7a330bc0",
   "metadata": {},
   "source": [
    "6. Functions"
   ]
  },
  {
   "cell_type": "code",
   "execution_count": 6,
   "id": "0cdaf6c6",
   "metadata": {},
   "outputs": [
    {
     "name": "stdout",
     "output_type": "stream",
     "text": [
      "birch tree\n",
      "spruce tree\n",
      "pine tree\n",
      "acacia tree\n"
     ]
    }
   ],
   "source": [
    "#arguments in functions\n",
    "def my_function(trees):\n",
    "  print(trees + \" tree\")\n",
    "my_function('birch')\n",
    "my_function('spruce')\n",
    "my_function('pine')\n",
    "my_function('acacia')"
   ]
  },
  {
   "cell_type": "code",
   "execution_count": 8,
   "id": "56d571ae",
   "metadata": {},
   "outputs": [
    {
     "name": "stdout",
     "output_type": "stream",
     "text": [
      "\n",
      "\n",
      "Recurion Example Results\n",
      "1\n",
      "3\n",
      "6\n",
      "10\n",
      "15\n"
     ]
    },
    {
     "data": {
      "text/plain": [
       "15"
      ]
     },
     "execution_count": 8,
     "metadata": {},
     "output_type": "execute_result"
    }
   ],
   "source": [
    "#recursion function\n",
    "def recursion(k):\n",
    "  if(k>0):\n",
    "    result = k+recursion(k-1)\n",
    "    print(result)\n",
    "  else:\n",
    "    result=0\n",
    "  return result\n",
    "\n",
    "print(\"\\n\\nRecurion Example Results\")\n",
    "recursion(5)"
   ]
  },
  {
   "cell_type": "code",
   "execution_count": null,
   "id": "04623a1a",
   "metadata": {},
   "outputs": [],
   "source": []
  }
 ],
 "metadata": {
  "kernelspec": {
   "display_name": "Python 3 (ipykernel)",
   "language": "python",
   "name": "python3"
  },
  "language_info": {
   "codemirror_mode": {
    "name": "ipython",
    "version": 3
   },
   "file_extension": ".py",
   "mimetype": "text/x-python",
   "name": "python",
   "nbconvert_exporter": "python",
   "pygments_lexer": "ipython3",
   "version": "3.9.12"
  }
 },
 "nbformat": 4,
 "nbformat_minor": 5
}
